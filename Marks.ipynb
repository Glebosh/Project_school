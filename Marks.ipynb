{
 "cells": [
  {
   "cell_type": "code",
   "execution_count": 1,
   "metadata": {},
   "outputs": [],
   "source": [
    "import pandas as pd\n",
    "import plotly.graph_objects as go\n",
    "import plotly.express as px\n",
    "import plotly"
   ]
  },
  {
   "cell_type": "code",
   "execution_count": 2,
   "metadata": {
    "scrolled": false
   },
   "outputs": [],
   "source": [
    "data = pd.read_html('Отчет об успеваемости и посещаемости ученика.xls')"
   ]
  },
  {
   "cell_type": "code",
   "execution_count": 3,
   "metadata": {},
   "outputs": [],
   "source": [
    "df = data[1]"
   ]
  },
  {
   "cell_type": "code",
   "execution_count": 4,
   "metadata": {},
   "outputs": [],
   "source": [
    "def get_marks(month):\n",
    "    marks = {'2': 0, '3': 0, '4': 0, '5': 0}\n",
    "    for subj in month.index:\n",
    "        row = month.iloc[subj]\n",
    "        row = pd.to_numeric(row, errors='coerce')\n",
    "        row = row.dropna()\n",
    "\n",
    "        for mark in row.values:\n",
    "            marks[str(int(mark))] += 1\n",
    "\n",
    "    return marks\n",
    "\n",
    "\n",
    "def get_marks_for_subject(df, subject):\n",
    "    marks = {'2': 0, '3': 0, '4': 0, '5': 0}\n",
    "\n",
    "    for data in df.iloc:\n",
    "        if data[0] == subject:\n",
    "            data = pd.to_numeric(data, errors=\"coerce\")\n",
    "            data = data.dropna()\n",
    "            data = data.values[:-1]\n",
    "\n",
    "            for mark in data:\n",
    "                marks[str(int(mark))] += 1\n",
    "    return marks"
   ]
  },
  {
   "cell_type": "code",
   "execution_count": 5,
   "metadata": {},
   "outputs": [],
   "source": [
    "def get_figure(data: list):\n",
    "    fig = go.Figure(data=data)\n",
    "\n",
    "    fig.update_layout(\n",
    "        title='отметки за период',\n",
    "        xaxis=dict(\n",
    "            title='отметки',\n",
    "            titlefont_size=16,\n",
    "            tickfont_size=14,\n",
    "        ),\n",
    "        yaxis=dict(\n",
    "            title='количество отметок',\n",
    "            titlefont_size=16,\n",
    "            tickfont_size=14,\n",
    "        ),\n",
    "        barmode='group',\n",
    "        bargap=0.15, # gap between bars of adjacent location coordinates.\n",
    "    )\n",
    "\n",
    "    return fig"
   ]
  },
  {
   "cell_type": "code",
   "execution_count": 6,
   "metadata": {},
   "outputs": [],
   "source": [
    "def get_marks_bar(marks: dict, m: str):\n",
    "    data = go.Bar(\n",
    "        x=list(marks.keys()),\n",
    "        y=list(marks.values()),\n",
    "        name=m\n",
    "    )\n",
    "    return data"
   ]
  },
  {
   "cell_type": "code",
   "execution_count": 7,
   "metadata": {},
   "outputs": [],
   "source": [
    "def plot_marks(df):\n",
    "    months = set([item[0] for item in df.columns[1:-1]])\n",
    "    bars = list()\n",
    "    for m in months:\n",
    "        marks = get_marks(df[m])\n",
    "        bar = get_marks_bar(marks, m)\n",
    "        bars.append(bar)\n",
    "        \n",
    "    return get_figure(bars)\n",
    "\n",
    "\n",
    "def plot_subject(df, subject):\n",
    "    marks = get_marks_for_subject(df, subject)\n",
    "    bar = get_marks_bar(marks, subject)\n",
    "    fig = get_figure([bar])\n",
    "    fig.update_layout(title=f'Отметки по {subject}')\n",
    "    return fig"
   ]
  },
  {
   "cell_type": "code",
   "execution_count": 8,
   "id": "64043915",
   "metadata": {},
   "outputs": [],
   "source": [
    "def get_subjects(df):\n",
    "    subjects = list()\n",
    "    for idx in range(len(df)):\n",
    "        subjects.append(df.iloc[idx][0])\n",
    "\n",
    "    return sorted(subjects)"
   ]
  },
  {
   "cell_type": "code",
   "execution_count": 9,
   "id": "d9b848b9",
   "metadata": {},
   "outputs": [
    {
     "name": "stdout",
     "output_type": "stream",
     "text": [
      "Marks for Алгебра: {'2': 0, '3': 1, '4': 1, '5': 7}\n",
      "Marks for Биология: {'2': 0, '3': 0, '4': 1, '5': 4}\n",
      "Marks for Второй иностранный язык: {'2': 0, '3': 0, '4': 2, '5': 11}\n",
      "Marks for География: {'2': 0, '3': 1, '4': 0, '5': 6}\n",
      "Marks for Геометрия: {'2': 0, '3': 1, '4': 2, '5': 4}\n",
      "Marks for Иностранный язык (английский): {'2': 0, '3': 1, '4': 8, '5': 18}\n",
      "Marks for Информатика: {'2': 0, '3': 0, '4': 1, '5': 4}\n",
      "Marks for История России. Всеобщая история: {'2': 0, '3': 0, '4': 1, '5': 8}\n",
      "Marks for Кубановедение: {'2': 0, '3': 0, '4': 0, '5': 3}\n",
      "Marks for Литература: {'2': 0, '3': 0, '4': 4, '5': 7}\n",
      "Marks for Обществознание: {'2': 0, '3': 0, '4': 2, '5': 3}\n",
      "Marks for Основы безопасности жизнедеятельности: {'2': 0, '3': 0, '4': 0, '5': 6}\n",
      "Marks for Русский язык: {'2': 0, '3': 2, '4': 6, '5': 2}\n",
      "Marks for Физика: {'2': 0, '3': 0, '4': 3, '5': 5}\n",
      "Marks for Физическая культура: {'2': 0, '3': 0, '4': 2, '5': 5}\n",
      "Marks for Химия: {'2': 0, '3': 0, '4': 1, '5': 4}\n"
     ]
    }
   ],
   "source": [
    "for subj in get_subjects(df):\n",
    "    marks = get_marks_for_subject(df, subj)\n",
    "    print(f\"Marks for {subj}: {marks}\")\n"
   ]
  },
  {
   "cell_type": "code",
   "execution_count": 10,
   "metadata": {},
   "outputs": [],
   "source": [
    "# figure 1\n",
    "fig = plot_marks(df)\n",
    "\n",
    "# figure 2\n",
    "subj = get_subjects(df)[0]\n",
    "fig = plot_subject(df, subj)\n",
    "\n",
    "# save to file(s)\n",
    "s = plotly.io.to_html(fig)\n",
    "with open('index.html', 'w') as file:\n",
    "    file.write(s)"
   ]
  },
  {
   "cell_type": "code",
   "execution_count": 11,
   "metadata": {},
   "outputs": [
    {
     "name": "stdout",
     "output_type": "stream",
     "text": [
      " ��� � ���ன�⢥ D ����� ���� -=SWALKA=-\n",
      " ��਩�� ����� ⮬�: 1C69-7DED\n",
      "\n",
      " ����ন��� ����� d:\\workspace\\Project\n",
      "\n",
      "04.12.2021  21:56    <DIR>          .\n",
      "04.12.2021  21:56    <DIR>          ..\n",
      "02.12.2021  22:11                 5 .gitignore\n",
      "02.12.2021  22:02    <DIR>          .idea\n",
      "14.11.2021  21:21    <DIR>          .ipynb_checkpoints\n",
      "02.12.2021  22:09    <DIR>          .vscode\n",
      "02.12.2021  22:31    <DIR>          env\n",
      "04.12.2021  22:23         3�663�578 index.html\n",
      "27.11.2021  22:25               207 manage.py\n",
      "04.12.2021  22:23             6�824 Marks.ipynb\n",
      "14.11.2021  21:22         3�607�315 october.html\n",
      "27.11.2021  22:27                26 Procfile\n",
      "27.11.2021  20:43    <DIR>          Project\n",
      "24.11.2021  20:46    <DIR>          python-getting-started\n",
      "27.11.2021  22:18                30 requirements.txt\n",
      "27.11.2021  22:24    <DIR>          static\n",
      "14.11.2021  19:58            18�942 Untitled.ipynb\n",
      "14.11.2021  19:09            56�475 ���� �� �ᯥ������� � ���頥���� �祭���.xls\n",
      "               9 䠩���      7�353�402 ����\n",
      "               9 �����  44�027�453�440 ���� ᢮�����\n"
     ]
    }
   ],
   "source": [
    "!dir"
   ]
  },
  {
   "cell_type": "code",
   "execution_count": null,
   "metadata": {},
   "outputs": [],
   "source": []
  }
 ],
 "metadata": {
  "kernelspec": {
   "display_name": "Python 3",
   "language": "python",
   "name": "python3"
  },
  "language_info": {
   "codemirror_mode": {
    "name": "ipython",
    "version": 3
   },
   "file_extension": ".py",
   "mimetype": "text/x-python",
   "name": "python",
   "nbconvert_exporter": "python",
   "pygments_lexer": "ipython3",
   "version": "3.10.0"
  }
 },
 "nbformat": 4,
 "nbformat_minor": 5
}
