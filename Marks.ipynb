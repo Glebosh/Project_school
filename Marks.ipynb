{
 "cells": [
  {
   "cell_type": "code",
   "execution_count": 12,
   "metadata": {},
   "outputs": [],
   "source": [
    "import pandas as pd\n",
    "import plotly.graph_objects as go\n",
    "import plotly.express as px\n",
    "import plotly\n",
    "import functions as func"
   ]
  },
  {
   "cell_type": "code",
   "execution_count": 13,
   "metadata": {
    "scrolled": false
   },
   "outputs": [],
   "source": [
    "data = pd.read_html('Отчет об успеваемости и посещаемости ученика.xls')"
   ]
  },
  {
   "cell_type": "code",
   "execution_count": 14,
   "metadata": {},
   "outputs": [],
   "source": [
    "df = data[1]"
   ]
  },
  {
   "cell_type": "code",
   "execution_count": 15,
   "metadata": {},
   "outputs": [],
   "source": [
    "# figure 1\n",
    "fig = func.plot_marks(df)\n",
    "\n",
    "# figure 2\n",
    "subj = func.get_subjects(df)[0]\n",
    "fig = func.plot_subject(df, subj)\n",
    "\n",
    "# save to file(s)\n",
    "s = plotly.io.to_html(fig)\n",
    "with open('index.html', 'w') as file:\n",
    "    file.write(s)"
   ]
  },
  {
   "cell_type": "code",
   "execution_count": 16,
   "metadata": {},
   "outputs": [
    {
     "name": "stdout",
     "output_type": "stream",
     "text": [
      " ��� � ���ன�⢥ D ����� ���� -=SWALKA=-\n",
      " ��਩�� ����� ⮬�: 1C69-7DED\n",
      "\n",
      " ����ন��� ����� d:\\workspace\\Project\n",
      "\n",
      "04.12.2021  22:30    <DIR>          .\n",
      "04.12.2021  22:30    <DIR>          ..\n",
      "02.12.2021  22:11                 5 .gitignore\n",
      "02.12.2021  22:02    <DIR>          .idea\n",
      "14.11.2021  21:21    <DIR>          .ipynb_checkpoints\n",
      "02.12.2021  22:09    <DIR>          .vscode\n",
      "02.12.2021  22:31    <DIR>          env\n",
      "04.12.2021  22:29             2�153 functions.py\n",
      "04.12.2021  22:32         3�663�578 index.html\n",
      "27.11.2021  22:25               207 manage.py\n",
      "04.12.2021  22:31             3�427 Marks.ipynb\n",
      "14.11.2021  21:22         3�607�315 october.html\n",
      "27.11.2021  22:27                26 Procfile\n",
      "27.11.2021  20:43    <DIR>          Project\n",
      "24.11.2021  20:46    <DIR>          python-getting-started\n",
      "27.11.2021  22:18                30 requirements.txt\n",
      "27.11.2021  22:24    <DIR>          static\n",
      "14.11.2021  19:58            18�942 Untitled.ipynb\n",
      "04.12.2021  22:30    <DIR>          __pycache__\n",
      "14.11.2021  19:09            56�475 ���� �� �ᯥ������� � ���頥���� �祭���.xls\n",
      "              10 䠩���      7�352�158 ����\n",
      "              10 �����  44�027�445�248 ���� ᢮�����\n"
     ]
    }
   ],
   "source": [
    "!dir"
   ]
  },
  {
   "cell_type": "code",
   "execution_count": null,
   "metadata": {},
   "outputs": [],
   "source": []
  }
 ],
 "metadata": {
  "kernelspec": {
   "display_name": "Python 3",
   "language": "python",
   "name": "python3"
  },
  "language_info": {
   "codemirror_mode": {
    "name": "ipython",
    "version": 3
   },
   "file_extension": ".py",
   "mimetype": "text/x-python",
   "name": "python",
   "nbconvert_exporter": "python",
   "pygments_lexer": "ipython3",
   "version": "3.10.0"
  }
 },
 "nbformat": 4,
 "nbformat_minor": 5
}
