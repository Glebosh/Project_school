{
 "cells": [
  {
   "cell_type": "code",
   "execution_count": 125,
   "metadata": {},
   "outputs": [],
   "source": [
    "import pandas as pd\n",
    "import plotly.graph_objects as go\n",
    "import plotly.express as px\n",
    "import plotly"
   ]
  },
  {
   "cell_type": "code",
   "execution_count": 126,
   "metadata": {
    "scrolled": false
   },
   "outputs": [],
   "source": [
    "data = pd.read_html('Отчет об успеваемости и посещаемости ученика.xls')"
   ]
  },
  {
   "cell_type": "code",
   "execution_count": 127,
   "metadata": {},
   "outputs": [],
   "source": [
    "df = data[1]"
   ]
  },
  {
   "cell_type": "code",
   "execution_count": 128,
   "metadata": {},
   "outputs": [],
   "source": [
    "def get_marks(month):\n",
    "    for subj in month.index:\n",
    "        row = month.iloc[subj]\n",
    "        row = pd.to_numeric(row, errors='coerce')\n",
    "        row = row.dropna()\n",
    "\n",
    "        for mark in row.values:\n",
    "            marks[str(int(mark))] += 1\n",
    "\n",
    "    return marks"
   ]
  },
  {
   "cell_type": "code",
   "execution_count": 129,
   "metadata": {},
   "outputs": [],
   "source": [
    "def get_figure(data: list):\n",
    "    fig = go.Figure(data=data)\n",
    "\n",
    "    fig.update_layout(\n",
    "        title=f'отметки за период',\n",
    "        xaxis=dict(\n",
    "            title='отметки',\n",
    "            titlefont_size=16,\n",
    "            tickfont_size=14,\n",
    "        ),\n",
    "        yaxis=dict(\n",
    "            title='количество отметок',\n",
    "            titlefont_size=16,\n",
    "            tickfont_size=14,\n",
    "        ),\n",
    "        barmode='group',\n",
    "        bargap=0.15, # gap between bars of adjacent location coordinates.\n",
    "    )\n",
    "\n",
    "    return fig"
   ]
  },
  {
   "cell_type": "code",
   "execution_count": 130,
   "metadata": {},
   "outputs": [],
   "source": [
    "def plot_marks(marks: dict, m: str):\n",
    "    data = go.Bar(\n",
    "        x=list(marks.keys()),\n",
    "        y=list(marks.values()),\n",
    "        name=m\n",
    "    )\n",
    "    return data"
   ]
  },
  {
   "cell_type": "code",
   "execution_count": 141,
   "metadata": {},
   "outputs": [],
   "source": [
    "marks = {'2': 0, '3': 0, '4': 0, '5': 0}\n",
    "months = ['Сентябрь', 'Октябрь']\n",
    "figs = list()\n",
    "plots = list()\n",
    "for m in months:\n",
    "    marks = get_marks(df[m])\n",
    "    plot = plot_marks(marks, m)\n",
    "    plots.append(plot)\n",
    "for plot in plots:\n",
    "    fig = get_figure(plots)"
   ]
  },
  {
   "cell_type": "code",
   "execution_count": 142,
   "metadata": {},
   "outputs": [],
   "source": [
    "s = plotly.io.to_html(fig)\n",
    "with open('index.html', 'w') as file:\n",
    "    file.write(s)"
   ]
  },
  {
   "cell_type": "code",
   "execution_count": 143,
   "metadata": {},
   "outputs": [
    {
     "name": "stdout",
     "output_type": "stream",
     "text": [
      " ’®¬ ў гбва®©бвўҐ D Ё¬ҐҐв ¬ҐвЄг -=SWALKA=-\n",
      " ‘ҐаЁ©­л© ­®¬Ґа в®¬ : 1C69-7DED\n",
      "\n",
      " ‘®¤Ґа¦Ё¬®Ґ Ї ЇЄЁ D:\\workspace\\Project\n",
      "\n",
      "28.11.2021  12:19    <DIR>          .\n",
      "28.11.2021  12:19    <DIR>          ..\n",
      "28.11.2021  00:03    <DIR>          .idea\n",
      "14.11.2021  21:21    <DIR>          .ipynb_checkpoints\n",
      "28.11.2021  12:20         3я607я472 index.html\n",
      "27.11.2021  22:25               207 manage.py\n",
      "28.11.2021  12:19            64я179 Marks.ipynb\n",
      "14.11.2021  21:22         3я607я315 october.html\n",
      "27.11.2021  22:27                26 Procfile\n",
      "27.11.2021  20:43    <DIR>          Project\n",
      "24.11.2021  20:46    <DIR>          python-getting-started\n",
      "27.11.2021  22:18                30 requirements.txt\n",
      "27.11.2021  22:24    <DIR>          static\n",
      "14.11.2021  19:58            18я942 Untitled.ipynb\n",
      "14.11.2021  19:09            56я475 ЋвзҐв ®Ў гбЇҐў Ґ¬®бвЁ Ё Ї®бҐй Ґ¬®бвЁ гзҐ­ЁЄ .xls\n",
      "               8 д ©«®ў      7я354я646 Ў ©в\n",
      "               7 Ї Ї®Є  49я254я129я664 Ў ©в бў®Ў®¤­®\n"
     ]
    }
   ],
   "source": [
    "!dir"
   ]
  },
  {
   "cell_type": "code",
   "execution_count": null,
   "metadata": {},
   "outputs": [],
   "source": []
  }
 ],
 "metadata": {
  "kernelspec": {
   "display_name": "Python 3",
   "language": "python",
   "name": "python3"
  },
  "language_info": {
   "codemirror_mode": {
    "name": "ipython",
    "version": 3
   },
   "file_extension": ".py",
   "mimetype": "text/x-python",
   "name": "python",
   "nbconvert_exporter": "python",
   "pygments_lexer": "ipython3",
   "version": "3.7.4"
  }
 },
 "nbformat": 4,
 "nbformat_minor": 5
}
