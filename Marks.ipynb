{
 "cells": [
  {
   "cell_type": "code",
   "execution_count": 64,
   "metadata": {},
   "outputs": [],
   "source": [
    "import pandas as pd\n",
    "import plotly.graph_objects as go\n",
    "import plotly.express as px\n",
    "import plotly"
   ]
  },
  {
   "cell_type": "code",
   "execution_count": 65,
   "metadata": {
    "scrolled": false
   },
   "outputs": [],
   "source": [
    "data = pd.read_html('Отчет об успеваемости и посещаемости ученика.xls')"
   ]
  },
  {
   "cell_type": "code",
   "execution_count": 66,
   "metadata": {},
   "outputs": [],
   "source": [
    "df = data[1]"
   ]
  },
  {
   "cell_type": "code",
   "execution_count": 67,
   "metadata": {},
   "outputs": [],
   "source": [
    "def get_marks(month):\n",
    "    marks = {'2': 0, '3': 0, '4': 0, '5': 0}\n",
    "    for subj in month.index:\n",
    "        row = month.iloc[subj]\n",
    "        row = pd.to_numeric(row, errors='coerce')\n",
    "        row = row.dropna()\n",
    "\n",
    "        for mark in row.values:\n",
    "            marks[str(int(mark))] += 1\n",
    "\n",
    "    return marks"
   ]
  },
  {
   "cell_type": "code",
   "execution_count": 68,
   "metadata": {},
   "outputs": [],
   "source": [
    "def get_figure(data: list):\n",
    "    fig = go.Figure(data=data)\n",
    "\n",
    "    fig.update_layout(\n",
    "        title=f'отметки за период',\n",
    "        xaxis=dict(\n",
    "            title='отметки',\n",
    "            titlefont_size=16,\n",
    "            tickfont_size=14,\n",
    "        ),\n",
    "        yaxis=dict(\n",
    "            title='количество отметок',\n",
    "            titlefont_size=16,\n",
    "            tickfont_size=14,\n",
    "        ),\n",
    "        barmode='group',\n",
    "        bargap=0.15, # gap between bars of adjacent location coordinates.\n",
    "    )\n",
    "\n",
    "    return fig"
   ]
  },
  {
   "cell_type": "code",
   "execution_count": 69,
   "metadata": {},
   "outputs": [],
   "source": [
    "def get_marks_bar(marks: dict, m: str):\n",
    "    data = go.Bar(\n",
    "        x=list(marks.keys()),\n",
    "        y=list(marks.values()),\n",
    "        name=m\n",
    "    )\n",
    "    return data"
   ]
  },
  {
   "cell_type": "code",
   "execution_count": 70,
   "metadata": {},
   "outputs": [],
   "source": [
    "def plot_marks(df):\n",
    "    months = set([item[0] for item in df.columns[1:-1]])\n",
    "    bars = list()\n",
    "    for m in months:\n",
    "        marks = get_marks(df[m])\n",
    "        bar = get_marks_bar(marks, m)\n",
    "        bars.append(bar)\n",
    "        \n",
    "    return get_figure(bars)"
   ]
  },
  {
   "cell_type": "code",
   "execution_count": 71,
   "metadata": {},
   "outputs": [],
   "source": [
    "s = plotly.io.to_html(fig)\n",
    "with open('index.html', 'w') as file:\n",
    "    file.write(s)"
   ]
  },
  {
   "cell_type": "code",
   "execution_count": 72,
   "metadata": {},
   "outputs": [
    {
     "name": "stdout",
     "output_type": "stream",
     "text": [
      " ��� � ���ன�⢥ D ����� ���� -=SWALKA=-\n",
      " ��਩�� ����� ⮬�: 1C69-7DED\n",
      "\n",
      " ����ন��� ����� d:\\workspace\\Project\n",
      "\n",
      "02.12.2021  22:29    <DIR>          .\n",
      "02.12.2021  22:29    <DIR>          ..\n",
      "02.12.2021  22:11                 5 .gitignore\n",
      "02.12.2021  22:02    <DIR>          .idea\n",
      "14.11.2021  21:21    <DIR>          .ipynb_checkpoints\n",
      "02.12.2021  22:09    <DIR>          .vscode\n",
      "02.12.2021  22:31    <DIR>          env\n",
      "04.12.2021  16:57         3�663�685 index.html\n",
      "27.11.2021  22:25               207 manage.py\n",
      "04.12.2021  16:57             5�298 Marks.ipynb\n",
      "14.11.2021  21:22         3�607�315 october.html\n",
      "27.11.2021  22:27                26 Procfile\n",
      "27.11.2021  20:43    <DIR>          Project\n",
      "24.11.2021  20:46    <DIR>          python-getting-started\n",
      "27.11.2021  22:18                30 requirements.txt\n",
      "27.11.2021  22:24    <DIR>          static\n",
      "14.11.2021  19:58            18�942 Untitled.ipynb\n",
      "14.11.2021  19:09            56�475 ���� �� �ᯥ������� � ���頥���� �祭���.xls\n",
      "               9 䠩���      7�351�983 ����\n",
      "               9 �����  44�027�494�400 ���� ᢮�����\n"
     ]
    }
   ],
   "source": [
    "!dir"
   ]
  },
  {
   "cell_type": "code",
   "execution_count": null,
   "metadata": {},
   "outputs": [],
   "source": []
  }
 ],
 "metadata": {
  "kernelspec": {
   "display_name": "Python 3",
   "language": "python",
   "name": "python3"
  },
  "language_info": {
   "codemirror_mode": {
    "name": "ipython",
    "version": 3
   },
   "file_extension": ".py",
   "mimetype": "text/x-python",
   "name": "python",
   "nbconvert_exporter": "python",
   "pygments_lexer": "ipython3",
   "version": "3.10.0"
  }
 },
 "nbformat": 4,
 "nbformat_minor": 5
}
